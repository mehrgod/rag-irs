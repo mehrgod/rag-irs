{
 "cells": [
  {
   "cell_type": "markdown",
   "id": "19805d88-5a80-49f5-a8cc-b0fd918f0c73",
   "metadata": {},
   "source": [
    "## Installing libraries"
   ]
  },
  {
   "cell_type": "code",
   "execution_count": 1,
   "id": "16b4846e-2195-4e56-b10c-16c007eae429",
   "metadata": {
    "execution": {
     "iopub.execute_input": "2025-06-20T20:56:21.905727Z",
     "iopub.status.busy": "2025-06-20T20:56:21.903786Z",
     "iopub.status.idle": "2025-06-20T20:56:28.455087Z",
     "shell.execute_reply": "2025-06-20T20:56:28.454225Z",
     "shell.execute_reply.started": "2025-06-20T20:56:21.905685Z"
    }
   },
   "outputs": [
    {
     "name": "stdout",
     "output_type": "stream",
     "text": [
      "Requirement already satisfied: chromadb in /opt/conda/lib/python3.12/site-packages (1.0.13)\n",
      "Requirement already satisfied: build>=1.0.3 in /opt/conda/lib/python3.12/site-packages (from chromadb) (1.2.2.post1)\n",
      "Requirement already satisfied: pydantic>=1.9 in /opt/conda/lib/python3.12/site-packages (from chromadb) (2.11.4)\n",
      "Requirement already satisfied: pybase64>=1.4.1 in /opt/conda/lib/python3.12/site-packages (from chromadb) (1.4.1)\n",
      "Requirement already satisfied: uvicorn>=0.18.3 in /opt/conda/lib/python3.12/site-packages (from uvicorn[standard]>=0.18.3->chromadb) (0.34.2)\n",
      "Requirement already satisfied: numpy>=1.22.5 in /opt/conda/lib/python3.12/site-packages (from chromadb) (1.26.4)\n",
      "Requirement already satisfied: posthog>=2.4.0 in /opt/conda/lib/python3.12/site-packages (from chromadb) (5.3.0)\n",
      "Requirement already satisfied: typing-extensions>=4.5.0 in /opt/conda/lib/python3.12/site-packages (from chromadb) (4.13.2)\n",
      "Requirement already satisfied: onnxruntime>=1.14.1 in /opt/conda/lib/python3.12/site-packages (from chromadb) (1.21.1)\n",
      "Requirement already satisfied: opentelemetry-api>=1.2.0 in /opt/conda/lib/python3.12/site-packages (from chromadb) (1.34.1)\n",
      "Requirement already satisfied: opentelemetry-exporter-otlp-proto-grpc>=1.2.0 in /opt/conda/lib/python3.12/site-packages (from chromadb) (1.34.1)\n",
      "Requirement already satisfied: opentelemetry-sdk>=1.2.0 in /opt/conda/lib/python3.12/site-packages (from chromadb) (1.34.1)\n",
      "Requirement already satisfied: tokenizers>=0.13.2 in /opt/conda/lib/python3.12/site-packages (from chromadb) (0.21.1)\n",
      "Requirement already satisfied: pypika>=0.48.9 in /opt/conda/lib/python3.12/site-packages (from chromadb) (0.48.9)\n",
      "Requirement already satisfied: tqdm>=4.65.0 in /opt/conda/lib/python3.12/site-packages (from chromadb) (4.67.1)\n",
      "Requirement already satisfied: overrides>=7.3.1 in /opt/conda/lib/python3.12/site-packages (from chromadb) (7.7.0)\n",
      "Requirement already satisfied: importlib-resources in /opt/conda/lib/python3.12/site-packages (from chromadb) (6.5.2)\n",
      "Requirement already satisfied: grpcio>=1.58.0 in /opt/conda/lib/python3.12/site-packages (from chromadb) (1.67.1)\n",
      "Requirement already satisfied: bcrypt>=4.0.1 in /opt/conda/lib/python3.12/site-packages (from chromadb) (4.3.0)\n",
      "Requirement already satisfied: typer>=0.9.0 in /opt/conda/lib/python3.12/site-packages (from chromadb) (0.15.3)\n",
      "Requirement already satisfied: kubernetes>=28.1.0 in /opt/conda/lib/python3.12/site-packages (from chromadb) (33.1.0)\n",
      "Requirement already satisfied: tenacity>=8.2.3 in /opt/conda/lib/python3.12/site-packages (from chromadb) (9.1.2)\n",
      "Requirement already satisfied: pyyaml>=6.0.0 in /opt/conda/lib/python3.12/site-packages (from chromadb) (6.0.2)\n",
      "Requirement already satisfied: mmh3>=4.0.1 in /opt/conda/lib/python3.12/site-packages (from chromadb) (5.1.0)\n",
      "Requirement already satisfied: orjson>=3.9.12 in /opt/conda/lib/python3.12/site-packages (from chromadb) (3.10.18)\n",
      "Requirement already satisfied: httpx>=0.27.0 in /opt/conda/lib/python3.12/site-packages (from chromadb) (0.28.1)\n",
      "Requirement already satisfied: rich>=10.11.0 in /opt/conda/lib/python3.12/site-packages (from chromadb) (14.0.0)\n",
      "Requirement already satisfied: jsonschema>=4.19.0 in /opt/conda/lib/python3.12/site-packages (from chromadb) (4.23.0)\n",
      "Requirement already satisfied: packaging>=19.1 in /opt/conda/lib/python3.12/site-packages (from build>=1.0.3->chromadb) (24.2)\n",
      "Requirement already satisfied: pyproject_hooks in /opt/conda/lib/python3.12/site-packages (from build>=1.0.3->chromadb) (1.2.0)\n",
      "Requirement already satisfied: anyio in /opt/conda/lib/python3.12/site-packages (from httpx>=0.27.0->chromadb) (4.9.0)\n",
      "Requirement already satisfied: certifi in /opt/conda/lib/python3.12/site-packages (from httpx>=0.27.0->chromadb) (2025.4.26)\n",
      "Requirement already satisfied: httpcore==1.* in /opt/conda/lib/python3.12/site-packages (from httpx>=0.27.0->chromadb) (1.0.9)\n",
      "Requirement already satisfied: idna in /opt/conda/lib/python3.12/site-packages (from httpx>=0.27.0->chromadb) (3.10)\n",
      "Requirement already satisfied: h11>=0.16 in /opt/conda/lib/python3.12/site-packages (from httpcore==1.*->httpx>=0.27.0->chromadb) (0.16.0)\n",
      "Requirement already satisfied: attrs>=22.2.0 in /opt/conda/lib/python3.12/site-packages (from jsonschema>=4.19.0->chromadb) (23.2.0)\n",
      "Requirement already satisfied: jsonschema-specifications>=2023.03.6 in /opt/conda/lib/python3.12/site-packages (from jsonschema>=4.19.0->chromadb) (2025.4.1)\n",
      "Requirement already satisfied: referencing>=0.28.4 in /opt/conda/lib/python3.12/site-packages (from jsonschema>=4.19.0->chromadb) (0.36.2)\n",
      "Requirement already satisfied: rpds-py>=0.7.1 in /opt/conda/lib/python3.12/site-packages (from jsonschema>=4.19.0->chromadb) (0.24.0)\n",
      "Requirement already satisfied: six>=1.9.0 in /opt/conda/lib/python3.12/site-packages (from kubernetes>=28.1.0->chromadb) (1.17.0)\n",
      "Requirement already satisfied: python-dateutil>=2.5.3 in /opt/conda/lib/python3.12/site-packages (from kubernetes>=28.1.0->chromadb) (2.9.0.post0)\n",
      "Requirement already satisfied: google-auth>=1.0.1 in /opt/conda/lib/python3.12/site-packages (from kubernetes>=28.1.0->chromadb) (2.40.1)\n",
      "Requirement already satisfied: websocket-client!=0.40.0,!=0.41.*,!=0.42.*,>=0.32.0 in /opt/conda/lib/python3.12/site-packages (from kubernetes>=28.1.0->chromadb) (1.8.0)\n",
      "Requirement already satisfied: requests in /opt/conda/lib/python3.12/site-packages (from kubernetes>=28.1.0->chromadb) (2.32.3)\n",
      "Requirement already satisfied: requests-oauthlib in /opt/conda/lib/python3.12/site-packages (from kubernetes>=28.1.0->chromadb) (2.0.0)\n",
      "Requirement already satisfied: oauthlib>=3.2.2 in /opt/conda/lib/python3.12/site-packages (from kubernetes>=28.1.0->chromadb) (3.3.1)\n",
      "Requirement already satisfied: urllib3>=1.24.2 in /opt/conda/lib/python3.12/site-packages (from kubernetes>=28.1.0->chromadb) (1.26.19)\n",
      "Requirement already satisfied: durationpy>=0.7 in /opt/conda/lib/python3.12/site-packages (from kubernetes>=28.1.0->chromadb) (0.10)\n",
      "Requirement already satisfied: cachetools<6.0,>=2.0.0 in /opt/conda/lib/python3.12/site-packages (from google-auth>=1.0.1->kubernetes>=28.1.0->chromadb) (5.5.2)\n",
      "Requirement already satisfied: pyasn1-modules>=0.2.1 in /opt/conda/lib/python3.12/site-packages (from google-auth>=1.0.1->kubernetes>=28.1.0->chromadb) (0.4.2)\n",
      "Requirement already satisfied: rsa<5,>=3.1.4 in /opt/conda/lib/python3.12/site-packages (from google-auth>=1.0.1->kubernetes>=28.1.0->chromadb) (4.9.1)\n",
      "Requirement already satisfied: pyasn1>=0.1.3 in /opt/conda/lib/python3.12/site-packages (from rsa<5,>=3.1.4->google-auth>=1.0.1->kubernetes>=28.1.0->chromadb) (0.6.1)\n",
      "Requirement already satisfied: coloredlogs in /opt/conda/lib/python3.12/site-packages (from onnxruntime>=1.14.1->chromadb) (15.0.1)\n",
      "Requirement already satisfied: flatbuffers in /opt/conda/lib/python3.12/site-packages (from onnxruntime>=1.14.1->chromadb) (25.2.10)\n",
      "Requirement already satisfied: protobuf in /opt/conda/lib/python3.12/site-packages (from onnxruntime>=1.14.1->chromadb) (5.28.3)\n",
      "Requirement already satisfied: sympy in /opt/conda/lib/python3.12/site-packages (from onnxruntime>=1.14.1->chromadb) (1.14.0)\n",
      "Requirement already satisfied: importlib-metadata<8.8.0,>=6.0 in /opt/conda/lib/python3.12/site-packages (from opentelemetry-api>=1.2.0->chromadb) (6.10.0)\n",
      "Requirement already satisfied: zipp>=0.5 in /opt/conda/lib/python3.12/site-packages (from importlib-metadata<8.8.0,>=6.0->opentelemetry-api>=1.2.0->chromadb) (3.21.0)\n",
      "Requirement already satisfied: googleapis-common-protos~=1.52 in /opt/conda/lib/python3.12/site-packages (from opentelemetry-exporter-otlp-proto-grpc>=1.2.0->chromadb) (1.70.0)\n",
      "Requirement already satisfied: opentelemetry-exporter-otlp-proto-common==1.34.1 in /opt/conda/lib/python3.12/site-packages (from opentelemetry-exporter-otlp-proto-grpc>=1.2.0->chromadb) (1.34.1)\n",
      "Requirement already satisfied: opentelemetry-proto==1.34.1 in /opt/conda/lib/python3.12/site-packages (from opentelemetry-exporter-otlp-proto-grpc>=1.2.0->chromadb) (1.34.1)\n",
      "Requirement already satisfied: opentelemetry-semantic-conventions==0.55b1 in /opt/conda/lib/python3.12/site-packages (from opentelemetry-sdk>=1.2.0->chromadb) (0.55b1)\n",
      "Requirement already satisfied: backoff>=1.10.0 in /opt/conda/lib/python3.12/site-packages (from posthog>=2.4.0->chromadb) (2.2.1)\n",
      "Requirement already satisfied: distro>=1.5.0 in /opt/conda/lib/python3.12/site-packages (from posthog>=2.4.0->chromadb) (1.9.0)\n",
      "Requirement already satisfied: charset_normalizer<4,>=2 in /opt/conda/lib/python3.12/site-packages (from requests->kubernetes>=28.1.0->chromadb) (3.4.2)\n",
      "Requirement already satisfied: annotated-types>=0.6.0 in /opt/conda/lib/python3.12/site-packages (from pydantic>=1.9->chromadb) (0.7.0)\n",
      "Requirement already satisfied: pydantic-core==2.33.2 in /opt/conda/lib/python3.12/site-packages (from pydantic>=1.9->chromadb) (2.33.2)\n",
      "Requirement already satisfied: typing-inspection>=0.4.0 in /opt/conda/lib/python3.12/site-packages (from pydantic>=1.9->chromadb) (0.4.0)\n",
      "Requirement already satisfied: markdown-it-py>=2.2.0 in /opt/conda/lib/python3.12/site-packages (from rich>=10.11.0->chromadb) (3.0.0)\n",
      "Requirement already satisfied: pygments<3.0.0,>=2.13.0 in /opt/conda/lib/python3.12/site-packages (from rich>=10.11.0->chromadb) (2.19.1)\n",
      "Requirement already satisfied: mdurl~=0.1 in /opt/conda/lib/python3.12/site-packages (from markdown-it-py>=2.2.0->rich>=10.11.0->chromadb) (0.1.2)\n",
      "Requirement already satisfied: huggingface-hub<1.0,>=0.16.4 in /opt/conda/lib/python3.12/site-packages (from tokenizers>=0.13.2->chromadb) (0.30.2)\n",
      "Requirement already satisfied: filelock in /opt/conda/lib/python3.12/site-packages (from huggingface-hub<1.0,>=0.16.4->tokenizers>=0.13.2->chromadb) (3.18.0)\n",
      "Requirement already satisfied: fsspec>=2023.5.0 in /opt/conda/lib/python3.12/site-packages (from huggingface-hub<1.0,>=0.16.4->tokenizers>=0.13.2->chromadb) (2024.10.0)\n",
      "Requirement already satisfied: click>=8.0.0 in /opt/conda/lib/python3.12/site-packages (from typer>=0.9.0->chromadb) (8.1.8)\n",
      "Requirement already satisfied: shellingham>=1.3.0 in /opt/conda/lib/python3.12/site-packages (from typer>=0.9.0->chromadb) (1.5.4)\n",
      "Requirement already satisfied: httptools>=0.6.3 in /opt/conda/lib/python3.12/site-packages (from uvicorn[standard]>=0.18.3->chromadb) (0.6.4)\n",
      "Requirement already satisfied: python-dotenv>=0.13 in /opt/conda/lib/python3.12/site-packages (from uvicorn[standard]>=0.18.3->chromadb) (1.1.0)\n",
      "Requirement already satisfied: uvloop!=0.15.0,!=0.15.1,>=0.14.0 in /opt/conda/lib/python3.12/site-packages (from uvicorn[standard]>=0.18.3->chromadb) (0.21.0)\n",
      "Requirement already satisfied: watchfiles>=0.13 in /opt/conda/lib/python3.12/site-packages (from uvicorn[standard]>=0.18.3->chromadb) (1.0.5)\n",
      "Requirement already satisfied: websockets>=10.4 in /opt/conda/lib/python3.12/site-packages (from uvicorn[standard]>=0.18.3->chromadb) (15.0.1)\n",
      "Requirement already satisfied: sniffio>=1.1 in /opt/conda/lib/python3.12/site-packages (from anyio->httpx>=0.27.0->chromadb) (1.3.1)\n",
      "Requirement already satisfied: humanfriendly>=9.1 in /opt/conda/lib/python3.12/site-packages (from coloredlogs->onnxruntime>=1.14.1->chromadb) (10.0)\n",
      "Requirement already satisfied: mpmath<1.4,>=1.1.0 in /opt/conda/lib/python3.12/site-packages (from sympy->onnxruntime>=1.14.1->chromadb) (1.3.0)\n",
      "Note: you may need to restart the kernel to use updated packages.\n",
      "Requirement already satisfied: sentence-transformers in /opt/conda/lib/python3.12/site-packages (4.1.0)\n",
      "Requirement already satisfied: transformers<5.0.0,>=4.41.0 in /opt/conda/lib/python3.12/site-packages (from sentence-transformers) (4.51.3)\n",
      "Requirement already satisfied: tqdm in /opt/conda/lib/python3.12/site-packages (from sentence-transformers) (4.67.1)\n",
      "Requirement already satisfied: torch>=1.11.0 in /opt/conda/lib/python3.12/site-packages (from sentence-transformers) (2.6.0)\n",
      "Requirement already satisfied: scikit-learn in /opt/conda/lib/python3.12/site-packages (from sentence-transformers) (1.6.1)\n",
      "Requirement already satisfied: scipy in /opt/conda/lib/python3.12/site-packages (from sentence-transformers) (1.15.2)\n",
      "Requirement already satisfied: huggingface-hub>=0.20.0 in /opt/conda/lib/python3.12/site-packages (from sentence-transformers) (0.30.2)\n",
      "Requirement already satisfied: Pillow in /opt/conda/lib/python3.12/site-packages (from sentence-transformers) (11.2.1)\n",
      "Requirement already satisfied: typing_extensions>=4.5.0 in /opt/conda/lib/python3.12/site-packages (from sentence-transformers) (4.13.2)\n",
      "Requirement already satisfied: filelock in /opt/conda/lib/python3.12/site-packages (from transformers<5.0.0,>=4.41.0->sentence-transformers) (3.18.0)\n",
      "Requirement already satisfied: numpy>=1.17 in /opt/conda/lib/python3.12/site-packages (from transformers<5.0.0,>=4.41.0->sentence-transformers) (1.26.4)\n",
      "Requirement already satisfied: packaging>=20.0 in /opt/conda/lib/python3.12/site-packages (from transformers<5.0.0,>=4.41.0->sentence-transformers) (24.2)\n",
      "Requirement already satisfied: pyyaml>=5.1 in /opt/conda/lib/python3.12/site-packages (from transformers<5.0.0,>=4.41.0->sentence-transformers) (6.0.2)\n",
      "Requirement already satisfied: regex!=2019.12.17 in /opt/conda/lib/python3.12/site-packages (from transformers<5.0.0,>=4.41.0->sentence-transformers) (2024.11.6)\n",
      "Requirement already satisfied: requests in /opt/conda/lib/python3.12/site-packages (from transformers<5.0.0,>=4.41.0->sentence-transformers) (2.32.3)\n",
      "Requirement already satisfied: tokenizers<0.22,>=0.21 in /opt/conda/lib/python3.12/site-packages (from transformers<5.0.0,>=4.41.0->sentence-transformers) (0.21.1)\n",
      "Requirement already satisfied: safetensors>=0.4.3 in /opt/conda/lib/python3.12/site-packages (from transformers<5.0.0,>=4.41.0->sentence-transformers) (0.5.3)\n",
      "Requirement already satisfied: fsspec>=2023.5.0 in /opt/conda/lib/python3.12/site-packages (from huggingface-hub>=0.20.0->sentence-transformers) (2024.10.0)\n",
      "Requirement already satisfied: setuptools in /opt/conda/lib/python3.12/site-packages (from torch>=1.11.0->sentence-transformers) (80.1.0)\n",
      "Requirement already satisfied: sympy!=1.13.2,>=1.13.1 in /opt/conda/lib/python3.12/site-packages (from torch>=1.11.0->sentence-transformers) (1.14.0)\n",
      "Requirement already satisfied: networkx in /opt/conda/lib/python3.12/site-packages (from torch>=1.11.0->sentence-transformers) (3.4.2)\n",
      "Requirement already satisfied: jinja2 in /opt/conda/lib/python3.12/site-packages (from torch>=1.11.0->sentence-transformers) (3.1.6)\n",
      "Requirement already satisfied: mpmath<1.4,>=1.1.0 in /opt/conda/lib/python3.12/site-packages (from sympy!=1.13.2,>=1.13.1->torch>=1.11.0->sentence-transformers) (1.3.0)\n",
      "Requirement already satisfied: MarkupSafe>=2.0 in /opt/conda/lib/python3.12/site-packages (from jinja2->torch>=1.11.0->sentence-transformers) (3.0.2)\n",
      "Requirement already satisfied: charset_normalizer<4,>=2 in /opt/conda/lib/python3.12/site-packages (from requests->transformers<5.0.0,>=4.41.0->sentence-transformers) (3.4.2)\n",
      "Requirement already satisfied: idna<4,>=2.5 in /opt/conda/lib/python3.12/site-packages (from requests->transformers<5.0.0,>=4.41.0->sentence-transformers) (3.10)\n",
      "Requirement already satisfied: urllib3<3,>=1.21.1 in /opt/conda/lib/python3.12/site-packages (from requests->transformers<5.0.0,>=4.41.0->sentence-transformers) (1.26.19)\n",
      "Requirement already satisfied: certifi>=2017.4.17 in /opt/conda/lib/python3.12/site-packages (from requests->transformers<5.0.0,>=4.41.0->sentence-transformers) (2025.4.26)\n",
      "Requirement already satisfied: joblib>=1.2.0 in /opt/conda/lib/python3.12/site-packages (from scikit-learn->sentence-transformers) (1.5.0)\n",
      "Requirement already satisfied: threadpoolctl>=3.1.0 in /opt/conda/lib/python3.12/site-packages (from scikit-learn->sentence-transformers) (3.6.0)\n",
      "Note: you may need to restart the kernel to use updated packages.\n",
      "Requirement already satisfied: streamlit in /opt/conda/lib/python3.12/site-packages (1.46.0)\n",
      "Requirement already satisfied: altair<6,>=4.0 in /opt/conda/lib/python3.12/site-packages (from streamlit) (5.5.0)\n",
      "Requirement already satisfied: blinker<2,>=1.5.0 in /opt/conda/lib/python3.12/site-packages (from streamlit) (1.9.0)\n",
      "Requirement already satisfied: cachetools<7,>=4.0 in /opt/conda/lib/python3.12/site-packages (from streamlit) (5.5.2)\n",
      "Requirement already satisfied: click<9,>=7.0 in /opt/conda/lib/python3.12/site-packages (from streamlit) (8.1.8)\n",
      "Requirement already satisfied: numpy<3,>=1.23 in /opt/conda/lib/python3.12/site-packages (from streamlit) (1.26.4)\n",
      "Requirement already satisfied: packaging<26,>=20 in /opt/conda/lib/python3.12/site-packages (from streamlit) (24.2)\n",
      "Requirement already satisfied: pandas<3,>=1.4.0 in /opt/conda/lib/python3.12/site-packages (from streamlit) (2.2.3)\n",
      "Requirement already satisfied: pillow<12,>=7.1.0 in /opt/conda/lib/python3.12/site-packages (from streamlit) (11.2.1)\n",
      "Requirement already satisfied: protobuf<7,>=3.20 in /opt/conda/lib/python3.12/site-packages (from streamlit) (5.28.3)\n",
      "Requirement already satisfied: pyarrow>=7.0 in /opt/conda/lib/python3.12/site-packages (from streamlit) (19.0.1)\n",
      "Requirement already satisfied: requests<3,>=2.27 in /opt/conda/lib/python3.12/site-packages (from streamlit) (2.32.3)\n",
      "Requirement already satisfied: tenacity<10,>=8.1.0 in /opt/conda/lib/python3.12/site-packages (from streamlit) (9.1.2)\n",
      "Requirement already satisfied: toml<2,>=0.10.1 in /opt/conda/lib/python3.12/site-packages (from streamlit) (0.10.2)\n",
      "Requirement already satisfied: typing-extensions<5,>=4.4.0 in /opt/conda/lib/python3.12/site-packages (from streamlit) (4.13.2)\n",
      "Requirement already satisfied: watchdog<7,>=2.1.5 in /opt/conda/lib/python3.12/site-packages (from streamlit) (6.0.0)\n",
      "Requirement already satisfied: gitpython!=3.1.19,<4,>=3.0.7 in /opt/conda/lib/python3.12/site-packages (from streamlit) (3.1.44)\n",
      "Requirement already satisfied: pydeck<1,>=0.8.0b4 in /opt/conda/lib/python3.12/site-packages (from streamlit) (0.9.1)\n",
      "Requirement already satisfied: tornado!=6.5.0,<7,>=6.0.3 in /opt/conda/lib/python3.12/site-packages (from streamlit) (6.4.2)\n",
      "Requirement already satisfied: jinja2 in /opt/conda/lib/python3.12/site-packages (from altair<6,>=4.0->streamlit) (3.1.6)\n",
      "Requirement already satisfied: jsonschema>=3.0 in /opt/conda/lib/python3.12/site-packages (from altair<6,>=4.0->streamlit) (4.23.0)\n",
      "Requirement already satisfied: narwhals>=1.14.2 in /opt/conda/lib/python3.12/site-packages (from altair<6,>=4.0->streamlit) (1.38.2)\n",
      "Requirement already satisfied: gitdb<5,>=4.0.1 in /opt/conda/lib/python3.12/site-packages (from gitpython!=3.1.19,<4,>=3.0.7->streamlit) (4.0.12)\n",
      "Requirement already satisfied: smmap<6,>=3.0.1 in /opt/conda/lib/python3.12/site-packages (from gitdb<5,>=4.0.1->gitpython!=3.1.19,<4,>=3.0.7->streamlit) (5.0.2)\n",
      "Requirement already satisfied: python-dateutil>=2.8.2 in /opt/conda/lib/python3.12/site-packages (from pandas<3,>=1.4.0->streamlit) (2.9.0.post0)\n",
      "Requirement already satisfied: pytz>=2020.1 in /opt/conda/lib/python3.12/site-packages (from pandas<3,>=1.4.0->streamlit) (2024.2)\n",
      "Requirement already satisfied: tzdata>=2022.7 in /opt/conda/lib/python3.12/site-packages (from pandas<3,>=1.4.0->streamlit) (2025.2)\n",
      "Requirement already satisfied: charset_normalizer<4,>=2 in /opt/conda/lib/python3.12/site-packages (from requests<3,>=2.27->streamlit) (3.4.2)\n",
      "Requirement already satisfied: idna<4,>=2.5 in /opt/conda/lib/python3.12/site-packages (from requests<3,>=2.27->streamlit) (3.10)\n",
      "Requirement already satisfied: urllib3<3,>=1.21.1 in /opt/conda/lib/python3.12/site-packages (from requests<3,>=2.27->streamlit) (1.26.19)\n",
      "Requirement already satisfied: certifi>=2017.4.17 in /opt/conda/lib/python3.12/site-packages (from requests<3,>=2.27->streamlit) (2025.4.26)\n",
      "Requirement already satisfied: MarkupSafe>=2.0 in /opt/conda/lib/python3.12/site-packages (from jinja2->altair<6,>=4.0->streamlit) (3.0.2)\n",
      "Requirement already satisfied: attrs>=22.2.0 in /opt/conda/lib/python3.12/site-packages (from jsonschema>=3.0->altair<6,>=4.0->streamlit) (23.2.0)\n",
      "Requirement already satisfied: jsonschema-specifications>=2023.03.6 in /opt/conda/lib/python3.12/site-packages (from jsonschema>=3.0->altair<6,>=4.0->streamlit) (2025.4.1)\n",
      "Requirement already satisfied: referencing>=0.28.4 in /opt/conda/lib/python3.12/site-packages (from jsonschema>=3.0->altair<6,>=4.0->streamlit) (0.36.2)\n",
      "Requirement already satisfied: rpds-py>=0.7.1 in /opt/conda/lib/python3.12/site-packages (from jsonschema>=3.0->altair<6,>=4.0->streamlit) (0.24.0)\n",
      "Requirement already satisfied: six>=1.5 in /opt/conda/lib/python3.12/site-packages (from python-dateutil>=2.8.2->pandas<3,>=1.4.0->streamlit) (1.17.0)\n",
      "Note: you may need to restart the kernel to use updated packages.\n"
     ]
    }
   ],
   "source": [
    "%pip install chromadb\n",
    "%pip install -U sentence-transformers \n",
    "%pip install streamlit"
   ]
  },
  {
   "cell_type": "code",
   "execution_count": 2,
   "id": "684d046b-659a-465c-b33c-13e9d5d001f0",
   "metadata": {
    "execution": {
     "iopub.execute_input": "2025-06-20T20:56:36.481945Z",
     "iopub.status.busy": "2025-06-20T20:56:36.481627Z",
     "iopub.status.idle": "2025-06-20T20:56:37.138755Z",
     "shell.execute_reply": "2025-06-20T20:56:37.138088Z",
     "shell.execute_reply.started": "2025-06-20T20:56:36.481920Z"
    }
   },
   "outputs": [],
   "source": [
    "import requests\n",
    "from bs4 import BeautifulSoup\n",
    "import json\n",
    "import os\n",
    "import re\n",
    "import time\n",
    "import boto3\n",
    "import chromadb\n",
    "import numpy as np\n",
    "import pickle\n",
    "from chromadb.utils import embedding_functions\n",
    "from sentence_transformers import SentenceTransformer"
   ]
  },
  {
   "cell_type": "markdown",
   "id": "4fd7a3da-018e-4c34-a242-c30a6f40753b",
   "metadata": {},
   "source": [
    "## Data Preparation\n",
    "\n",
    "- ### Corpus: IRS Internal Revenue Manual (IRM) — Part 1, Section 1.1.6 “Chief Counsel”\n",
    "- ### Access Method: Web scraping from IRS.gov (HTML pages)\n",
    "- ### Goal: Extract structured, text-rich content for use in the Retrieval-Augmented Generation (RAG) chatbot.\n",
    "The crawled texts are parsed to extract the sections of this page. Each section such as 1.1.6.1 and subsection such as 1.1.6.1.1 are considered as one document (chunk) and are stored in a json file. Final output is saved in this format for each chunk:\n",
    "```\n",
    "{\n",
    "  \"section\": \"1.1.6.4\",\n",
    "  \"date\": \"12-16-2020\",\n",
    "  \"title\": \"Executive Counsel\",\n",
    "  \"text\": \"The Executive Counsel to the Chief Counsel...\"\n",
    "}\n",
    "```"
   ]
  },
  {
   "cell_type": "code",
   "execution_count": 3,
   "id": "0f69594d-2e5e-4b04-b18c-d70dbc15d740",
   "metadata": {
    "execution": {
     "iopub.execute_input": "2025-06-20T20:56:45.650131Z",
     "iopub.status.busy": "2025-06-20T20:56:45.649856Z",
     "iopub.status.idle": "2025-06-20T20:56:45.653996Z",
     "shell.execute_reply": "2025-06-20T20:56:45.653197Z",
     "shell.execute_reply.started": "2025-06-20T20:56:45.650110Z"
    }
   },
   "outputs": [],
   "source": [
    "URL = \"https://www.irs.gov/irm/part1/irm_01-001-006\"\n",
    "HEADERS = {\n",
    "    \"User-Agent\": \"Mozilla/5.0 (Windows NT 10.0; Win64; x64) AppleWebKit/537.36 (KHTML, like Gecko) Chrome/114.0.0.0 Safari/537.36\"\n",
    "}"
   ]
  },
  {
   "cell_type": "code",
   "execution_count": 4,
   "id": "580e2eb0-64e2-4749-9b6e-efc93e2f49a3",
   "metadata": {
    "execution": {
     "iopub.execute_input": "2025-06-20T20:56:46.305283Z",
     "iopub.status.busy": "2025-06-20T20:56:46.304868Z",
     "iopub.status.idle": "2025-06-20T20:56:46.310061Z",
     "shell.execute_reply": "2025-06-20T20:56:46.309305Z",
     "shell.execute_reply.started": "2025-06-20T20:56:46.305257Z"
    }
   },
   "outputs": [],
   "source": [
    "def crawl_page(url):\n",
    "    try:\n",
    "        response = requests.get(url, headers=HEADERS)\n",
    "        response.raise_for_status()\n",
    "        soup = BeautifulSoup(response.text, \"html.parser\")\n",
    "\n",
    "        # Use main-content div that is confirmed from debug\n",
    "        content_div = soup.find(\"div\", id=\"main-content\")\n",
    "        text = content_div.get_text(separator=\"\\n\", strip=True) if content_div else \"\"\n",
    "\n",
    "        return {\n",
    "            \"url\": url,\n",
    "            \"text\": text\n",
    "        }\n",
    "    except Exception as e:\n",
    "        print(f\"Failed to crawl {url}: {e}\")\n",
    "        return None"
   ]
  },
  {
   "cell_type": "code",
   "execution_count": 5,
   "id": "95f86214-eabd-468a-b798-68ea20121d3d",
   "metadata": {
    "execution": {
     "iopub.execute_input": "2025-06-20T20:56:48.303486Z",
     "iopub.status.busy": "2025-06-20T20:56:48.302765Z",
     "iopub.status.idle": "2025-06-20T20:56:48.308947Z",
     "shell.execute_reply": "2025-06-20T20:56:48.308276Z",
     "shell.execute_reply.started": "2025-06-20T20:56:48.303457Z"
    }
   },
   "outputs": [],
   "source": [
    "def split_sections(text):\n",
    "    lines = text.splitlines()\n",
    "    sections = []\n",
    "    current = None\n",
    "\n",
    "    for i in range(len(lines)):\n",
    "        line = lines[i].strip()\n",
    "\n",
    "        # Start of a new section\n",
    "        if line.startswith(\"1.1.6.\") and lines[i+1].strip().startswith('('):\n",
    "            if current:\n",
    "                # Save previous section\n",
    "                current[\"text\"] = \"\\n\".join(current[\"text\"]).strip()\n",
    "                sections.append(current)\n",
    "\n",
    "            section = line\n",
    "            date = lines[i + 1].strip().replace(\"(\", \"\").replace(\")\", \"\") if i + 1 < len(lines) else \"\"\n",
    "            title = lines[i + 2].strip() if i + 2 < len(lines) else \"\"\n",
    "\n",
    "            current = {\n",
    "                \"section\": section,\n",
    "                \"date\": date,\n",
    "                \"title\": title,\n",
    "                \"text\": [section]\n",
    "            }\n",
    "\n",
    "            # Skip next two lines (date and title)\n",
    "            i += 2\n",
    "\n",
    "        elif current:\n",
    "            current[\"text\"].append(line)\n",
    "\n",
    "    # Add the last section\n",
    "    if current:\n",
    "        current[\"text\"] = \"\\n\".join(current[\"text\"]).strip()\n",
    "        sections.append(current)\n",
    "\n",
    "    return sections"
   ]
  },
  {
   "cell_type": "code",
   "execution_count": 6,
   "id": "82afafd0-18fa-4c83-b576-7947609cea51",
   "metadata": {
    "execution": {
     "iopub.execute_input": "2025-06-20T20:56:49.262526Z",
     "iopub.status.busy": "2025-06-20T20:56:49.261800Z",
     "iopub.status.idle": "2025-06-20T20:56:49.265921Z",
     "shell.execute_reply": "2025-06-20T20:56:49.264984Z",
     "shell.execute_reply.started": "2025-06-20T20:56:49.262493Z"
    }
   },
   "outputs": [],
   "source": [
    "def filter_sections(sections, min_length=200):\n",
    "    \"\"\"\n",
    "    Remove sections where the main text is too short.\n",
    "    \"\"\"\n",
    "    return [sec for sec in sections if len(sec[\"text\"]) >= min_length]"
   ]
  },
  {
   "cell_type": "code",
   "execution_count": 7,
   "id": "7e17d297-011e-4d9e-9477-6a8e66750276",
   "metadata": {
    "execution": {
     "iopub.execute_input": "2025-06-20T20:56:50.503340Z",
     "iopub.status.busy": "2025-06-20T20:56:50.502655Z",
     "iopub.status.idle": "2025-06-20T20:56:50.508059Z",
     "shell.execute_reply": "2025-06-20T20:56:50.507196Z",
     "shell.execute_reply.started": "2025-06-20T20:56:50.503316Z"
    }
   },
   "outputs": [],
   "source": [
    "def save_sections_to_json(sections, filename=\"sections.json\", folder=\"data\"):\n",
    "    # Create folder if it doesn't exist\n",
    "    os.makedirs(folder, exist_ok=True)\n",
    "\n",
    "    # Full path to file\n",
    "    file_path = os.path.join(folder, filename)\n",
    "\n",
    "    # Write to JSON\n",
    "    with open(file_path, \"w\", encoding=\"utf-8\") as f:\n",
    "        json.dump(sections, f, ensure_ascii=False, indent=2)\n",
    "\n",
    "    print(f\"Saved {len(sections)} sections to {file_path}\")"
   ]
  },
  {
   "cell_type": "code",
   "execution_count": 9,
   "id": "b0355428-5f41-4128-a282-5df5fe7ae0f5",
   "metadata": {
    "execution": {
     "iopub.execute_input": "2025-06-20T20:57:31.584887Z",
     "iopub.status.busy": "2025-06-20T20:57:31.584374Z",
     "iopub.status.idle": "2025-06-20T20:57:32.765472Z",
     "shell.execute_reply": "2025-06-20T20:57:32.764616Z",
     "shell.execute_reply.started": "2025-06-20T20:57:31.584858Z"
    }
   },
   "outputs": [
    {
     "name": "stdout",
     "output_type": "stream",
     "text": [
      "Saved 26 sections to data/sections.json\n"
     ]
    }
   ],
   "source": [
    "doc = crawl_page(URL)\n",
    "all_sections = split_sections(doc['text'])\n",
    "sections = filter_sections(all_sections)\n",
    "\n",
    "save_sections_to_json(sections)"
   ]
  },
  {
   "cell_type": "markdown",
   "id": "ca657bbf-9655-4ba9-8704-e3ba0da7cbdd",
   "metadata": {
    "execution": {
     "iopub.execute_input": "2025-06-20T17:47:07.145695Z",
     "iopub.status.busy": "2025-06-20T17:47:07.145393Z",
     "iopub.status.idle": "2025-06-20T17:47:07.150675Z",
     "shell.execute_reply": "2025-06-20T17:47:07.149515Z",
     "shell.execute_reply.started": "2025-06-20T17:47:07.145672Z"
    }
   },
   "source": [
    "### Store Data on S3"
   ]
  },
  {
   "cell_type": "code",
   "execution_count": 10,
   "id": "b890a30e-8ad4-4cff-bdcc-da11570faed1",
   "metadata": {
    "execution": {
     "iopub.execute_input": "2025-06-20T20:58:20.870262Z",
     "iopub.status.busy": "2025-06-20T20:58:20.869892Z",
     "iopub.status.idle": "2025-06-20T20:58:21.173366Z",
     "shell.execute_reply": "2025-06-20T20:58:21.172387Z",
     "shell.execute_reply.started": "2025-06-20T20:58:20.870214Z"
    }
   },
   "outputs": [
    {
     "name": "stdout",
     "output_type": "stream",
     "text": [
      "Uploaded to s3://irs-rag-chatbot-dev/irs-rag/sections.json\n"
     ]
    }
   ],
   "source": [
    "s3 = boto3.client('s3')\n",
    "bucket = \"irs-rag-chatbot-dev\"\n",
    "local_path = \"data/sections.json\"\n",
    "key = \"irs-rag/sections.json\"\n",
    "\n",
    "s3.upload_file(local_path, bucket, key)\n",
    "print(f\"Uploaded to s3://{bucket}/{key}\")"
   ]
  },
  {
   "cell_type": "code",
   "execution_count": 11,
   "id": "772d9d9d-00a7-4a2d-a171-1f23e134d4ff",
   "metadata": {
    "execution": {
     "iopub.execute_input": "2025-06-20T20:58:22.157741Z",
     "iopub.status.busy": "2025-06-20T20:58:22.156889Z",
     "iopub.status.idle": "2025-06-20T20:58:22.206253Z",
     "shell.execute_reply": "2025-06-20T20:58:22.203309Z",
     "shell.execute_reply.started": "2025-06-20T20:58:22.157714Z"
    }
   },
   "outputs": [],
   "source": [
    "response = s3.get_object(Bucket=bucket, Key=key)\n",
    "sections = json.loads(response['Body'].read().decode('utf-8'))"
   ]
  },
  {
   "cell_type": "code",
   "execution_count": 12,
   "id": "48fb6eb6-755f-47a7-9adb-cd983cbfa362",
   "metadata": {
    "execution": {
     "iopub.execute_input": "2025-06-20T20:58:23.362122Z",
     "iopub.status.busy": "2025-06-20T20:58:23.361476Z",
     "iopub.status.idle": "2025-06-20T20:58:23.365782Z",
     "shell.execute_reply": "2025-06-20T20:58:23.364848Z",
     "shell.execute_reply.started": "2025-06-20T20:58:23.362093Z"
    }
   },
   "outputs": [],
   "source": [
    "texts = [s['text'] for s in sections]\n",
    "metadatas = [{\"section\": s[\"section\"], \"title\": s[\"title\"], \"date\": s[\"date\"]} for s in sections]"
   ]
  },
  {
   "cell_type": "markdown",
   "id": "22b7535b-e111-405b-82bf-f328004e9a2a",
   "metadata": {},
   "source": [
    "## Embedding\n",
    "- ### Generate dense vector embeddings for each document chunk using a Hugging Face model.\n",
    "- ### These embeddings are later stored in a vector DB for semantic search in the RAG pipeline."
   ]
  },
  {
   "cell_type": "code",
   "execution_count": 13,
   "id": "76f06fa8-0c93-4d6d-a440-2f6080670442",
   "metadata": {
    "execution": {
     "iopub.execute_input": "2025-06-20T20:58:25.423734Z",
     "iopub.status.busy": "2025-06-20T20:58:25.423454Z",
     "iopub.status.idle": "2025-06-20T20:58:28.173590Z",
     "shell.execute_reply": "2025-06-20T20:58:28.172901Z",
     "shell.execute_reply.started": "2025-06-20T20:58:25.423711Z"
    }
   },
   "outputs": [
    {
     "data": {
      "application/vnd.jupyter.widget-view+json": {
       "model_id": "5de2e0c32fc24b3b8e2bd477f91fe4fd",
       "version_major": 2,
       "version_minor": 0
      },
      "text/plain": [
       "Batches:   0%|          | 0/1 [00:00<?, ?it/s]"
      ]
     },
     "metadata": {},
     "output_type": "display_data"
    }
   ],
   "source": [
    "model = SentenceTransformer(\"all-MiniLM-L6-v2\")\n",
    "embeddings = model.encode(texts, show_progress_bar=True)"
   ]
  },
  {
   "cell_type": "markdown",
   "id": "ef45e4c4-f282-46a4-9854-8179aaa1ef3b",
   "metadata": {},
   "source": [
    "## Vector DB\n",
    "- ### Initialize and populate ChromaDB as the vector store to enable fast similarity search over embedded document chunks.\n",
    "- ### The model takes as input the top-k most relevant document chunks retrieved from the vector store. I have selected k=3"
   ]
  },
  {
   "cell_type": "code",
   "execution_count": 14,
   "id": "efa65b47-7009-4f5f-89b6-122afb80bc62",
   "metadata": {
    "execution": {
     "iopub.execute_input": "2025-06-20T20:58:32.831858Z",
     "iopub.status.busy": "2025-06-20T20:58:32.831159Z",
     "iopub.status.idle": "2025-06-20T20:58:33.039633Z",
     "shell.execute_reply": "2025-06-20T20:58:33.038931Z",
     "shell.execute_reply.started": "2025-06-20T20:58:32.831829Z"
    }
   },
   "outputs": [],
   "source": [
    "# Initialize Chroma client\n",
    "client = chromadb.Client()\n",
    "\n",
    "# Optional: use an in-memory collection or persist to disk\n",
    "collection = client.create_collection(name=\"irs_sections\")\n",
    "\n",
    "# Insert documents\n",
    "for i, (text, meta, embedding) in enumerate(zip(texts, metadatas, embeddings)):\n",
    "    collection.add(\n",
    "        documents=[text],\n",
    "        embeddings=[embedding],\n",
    "        metadatas=[meta],\n",
    "        ids=[str(i)]\n",
    "    )"
   ]
  },
  {
   "cell_type": "code",
   "execution_count": 85,
   "id": "88bc542c-ebae-43ab-a50c-a1c0ee021ec4",
   "metadata": {
    "execution": {
     "iopub.execute_input": "2025-06-20T21:37:51.284205Z",
     "iopub.status.busy": "2025-06-20T21:37:51.283843Z",
     "iopub.status.idle": "2025-06-20T21:37:51.288316Z",
     "shell.execute_reply": "2025-06-20T21:37:51.287476Z",
     "shell.execute_reply.started": "2025-06-20T21:37:51.284170Z"
    }
   },
   "outputs": [],
   "source": [
    "def query_chromadb(user_query, model, collection, top_k=3):\n",
    "    query_embedding = model.encode(user_query)\n",
    "    results = collection.query(\n",
    "        query_embeddings=[query_embedding],\n",
    "        n_results=top_k\n",
    "    )\n",
    "\n",
    "    documents = results[\"documents\"][0]\n",
    "    metadatas = results[\"metadatas\"][0]\n",
    "\n",
    "    return documents, metadatas"
   ]
  },
  {
   "cell_type": "markdown",
   "id": "de0903cd-a83a-4e3f-9c4c-2231e672bff3",
   "metadata": {},
   "source": [
    "## Answer Generation\n",
    "- ### A natural language answer is generated using Amazon Bedrock's Titan Text Premier model.\n",
    "- ### Along with the user's query, the context form vector DB and query are formatted into a prompt, which the LLM uses to synthesize a grounded, human-readable response.\n",
    "- ### The output includes citations or references to the original source chunks."
   ]
  },
  {
   "cell_type": "code",
   "execution_count": 16,
   "id": "fa3c30ec-f8c7-4192-8434-86a60ec63594",
   "metadata": {
    "execution": {
     "iopub.execute_input": "2025-06-20T20:58:37.742617Z",
     "iopub.status.busy": "2025-06-20T20:58:37.742343Z",
     "iopub.status.idle": "2025-06-20T20:58:37.753452Z",
     "shell.execute_reply": "2025-06-20T20:58:37.752579Z",
     "shell.execute_reply.started": "2025-06-20T20:58:37.742597Z"
    }
   },
   "outputs": [],
   "source": [
    "bedrock = boto3.client(\"bedrock-runtime\", region_name=\"us-east-1\")"
   ]
  },
  {
   "cell_type": "code",
   "execution_count": 87,
   "id": "dab7d1b9-5907-41b8-875f-63da163de5b0",
   "metadata": {
    "execution": {
     "iopub.execute_input": "2025-06-20T22:23:57.960159Z",
     "iopub.status.busy": "2025-06-20T22:23:57.959370Z",
     "iopub.status.idle": "2025-06-20T22:23:57.966764Z",
     "shell.execute_reply": "2025-06-20T22:23:57.966009Z",
     "shell.execute_reply.started": "2025-06-20T22:23:57.960127Z"
    }
   },
   "outputs": [],
   "source": [
    "def estimate_token_count(text):\n",
    "    # Approx: 1 token ~ 4 characters (common for LLMs)\n",
    "    return int(len(text) / 4)\n",
    "\n",
    "\n",
    "def generate_answer_titan(context, user_query):\n",
    "    prompt = f\"\"\"You are an assistant helping answer questions using the IRS Internal Revenue Manual.\n",
    "\n",
    "Use the context below to answer the question.\n",
    "Each document in the context below starts with a section number.\n",
    "If that section is used to answer a prompt, include inline section references like [1.1.6.4].\n",
    "If there are multiple sections, include all of them.\n",
    "Only use the sections from the context below for referencing.\n",
    "Do not use generic citations like [1], [2], etc.\n",
    "Return the answer with inline citations. \n",
    "\n",
    "Context:\n",
    "{context}\n",
    "\n",
    "Question: {user_query}\n",
    "\n",
    "Answer:\"\"\"\n",
    "\n",
    "    start_time = time.time()\n",
    "\n",
    "    body = {\n",
    "        \"inputText\": prompt,\n",
    "        \"textGenerationConfig\": {\n",
    "            \"maxTokenCount\": 2000,\n",
    "            \"temperature\": 0.5,\n",
    "            \"topP\": 0.5,\n",
    "            \"stopSequences\": []\n",
    "        }\n",
    "    }\n",
    "\n",
    "    response = bedrock.invoke_model(\n",
    "        modelId=\"amazon.titan-text-premier-v1:0\",\n",
    "        body=json.dumps(body),\n",
    "        contentType=\"application/json\"\n",
    "    )\n",
    "\n",
    "    latency = time.time() - start_time\n",
    "\n",
    "    result = json.loads(response[\"body\"].read())\n",
    "    output = result[\"results\"][0][\"outputText\"]\n",
    "\n",
    "    prompt_tokens = estimate_token_count(prompt)\n",
    "    output_tokens = estimate_token_count(output)\n",
    "\n",
    "    return output, {\n",
    "        \"latency\": f\"{round(latency, 2)} (s)\",\n",
    "        \"prompt_tokens\": prompt_tokens,\n",
    "        \"output_tokens\": output_tokens\n",
    "    }"
   ]
  },
  {
   "cell_type": "markdown",
   "id": "0edbf41c-28fc-48fb-a473-7bb0362a91be",
   "metadata": {},
   "source": [
    "## Examples"
   ]
  },
  {
   "cell_type": "code",
   "execution_count": 57,
   "id": "2fa23098-fa2d-4f4e-8434-38e1774e30f7",
   "metadata": {
    "execution": {
     "iopub.execute_input": "2025-06-20T21:21:41.241008Z",
     "iopub.status.busy": "2025-06-20T21:21:41.240346Z",
     "iopub.status.idle": "2025-06-20T21:21:41.246198Z",
     "shell.execute_reply": "2025-06-20T21:21:41.245485Z",
     "shell.execute_reply.started": "2025-06-20T21:21:41.240982Z"
    }
   },
   "outputs": [],
   "source": [
    "def test_query_response(user_query, model, collection):\n",
    "    \"\"\"\n",
    "    Run a test query through the full RAG pipeline using ChromaDB and Titan Text.\n",
    "    \n",
    "    Args:\n",
    "        user_query (str): The question to ask the chatbot.\n",
    "        model: The Bedrock LLM client or callable used to generate the answer.\n",
    "        collection: The Chroma collection used for document retrieval.\n",
    "    \n",
    "    Returns:\n",
    "        None. Prints the answer and supporting citations.\n",
    "    \"\"\"\n",
    "\n",
    "    # Step 1: Retrieve documents from Chroma\n",
    "    context, citations = query_chromadb(user_query, model, collection)\n",
    "\n",
    "    # Step 2: Generate answer using Titan Text\n",
    "    answer, other = generate_answer_titan(context, user_query)\n",
    "\n",
    "    # Step 3: Display results\n",
    "    print(\"\\nAnswer:\\n\")\n",
    "    print(answer, \"\\n\")\n",
    "    for inf in other:\n",
    "        print (f\"{inf}: {other[inf]}\")\n",
    "    print(\"\\nCitations:\\n\")\n",
    "    for i, ref in enumerate(citations, 1):\n",
    "        print(f\"[{i}] Section {ref['section']}: {ref['title']}\")"
   ]
  },
  {
   "cell_type": "markdown",
   "id": "6224bf61-ba9e-45a4-b673-ec5ac181b022",
   "metadata": {},
   "source": [
    "### Example 1"
   ]
  },
  {
   "cell_type": "code",
   "execution_count": 88,
   "id": "7ad48450-c9cb-4631-a2a1-4c54620bc169",
   "metadata": {
    "execution": {
     "iopub.execute_input": "2025-06-20T22:24:10.549707Z",
     "iopub.status.busy": "2025-06-20T22:24:10.549416Z",
     "iopub.status.idle": "2025-06-20T22:24:14.068920Z",
     "shell.execute_reply": "2025-06-20T22:24:14.068207Z",
     "shell.execute_reply.started": "2025-06-20T22:24:10.549686Z"
    }
   },
   "outputs": [
    {
     "name": "stdout",
     "output_type": "stream",
     "text": [
      "\n",
      "Answer:\n",
      "\n",
      "Corporate organizations, Transfers to controlled corporations, Distributions to shareholders, including dividends, return-of-capital and gain-producing distributions, stock redemptions, spin-offs, split-offs, split-ups, and partial and complete liquidations, Acquisitive and divisive corporate reorganizations, Corporate debt vs. equity, Carryovers and carrybacks of losses, credits and other corporate tax attributes, Bankruptcies, insolvency proceedings, and other debt restructurings involving corporations, Constructive ownership of corporate stock, Consolidated return issues, Other issues affecting affiliated and controlled groups of corporations. [1.1.6.5] \n",
      "\n",
      "latency: 3.49 (s)\n",
      "prompt_tokens: 1435\n",
      "output_tokens: 166\n",
      "\n",
      "Citations:\n",
      "\n",
      "[1] Section 1.1.6.5: Associate Chief Counsel (Corporate)\n",
      "[2] Section 1.1.6.12: Associate Chief Counsel (Passthroughs & Special Industries)\n",
      "[3] Section 1.1.6.13: Associate Chief Counsel (Procedure & Administration)\n"
     ]
    }
   ],
   "source": [
    "user_query = \"What does the Associate Chief Counsel (Corporate) handle?\"\n",
    "test_query_response(user_query, model, collection)"
   ]
  },
  {
   "cell_type": "markdown",
   "id": "0b8a4aaa-e7b5-4ec4-a4e7-312e9a218e15",
   "metadata": {
    "execution": {
     "iopub.execute_input": "2025-06-20T18:08:38.389313Z",
     "iopub.status.busy": "2025-06-20T18:08:38.388547Z",
     "iopub.status.idle": "2025-06-20T18:08:40.028278Z",
     "shell.execute_reply": "2025-06-20T18:08:40.027438Z",
     "shell.execute_reply.started": "2025-06-20T18:08:38.389281Z"
    }
   },
   "source": [
    "### Example 2"
   ]
  },
  {
   "cell_type": "code",
   "execution_count": 89,
   "id": "a28e399b-ac74-4280-b622-0acee1ec1c1d",
   "metadata": {
    "execution": {
     "iopub.execute_input": "2025-06-20T22:24:19.505215Z",
     "iopub.status.busy": "2025-06-20T22:24:19.504631Z",
     "iopub.status.idle": "2025-06-20T22:24:21.473163Z",
     "shell.execute_reply": "2025-06-20T22:24:21.472295Z",
     "shell.execute_reply.started": "2025-06-20T22:24:19.505179Z"
    }
   },
   "outputs": [
    {
     "name": "stdout",
     "output_type": "stream",
     "text": [
      "\n",
      "Answer:\n",
      "\n",
      "The Chief Counsel for the Internal Revenue Service (IRS) provides advice to the IRS Commissioner on all matters pertaining to the interpretation, administration and enforcement of the Internal Revenue laws, represents the IRS in litigation, and provides all other legal support needed by the IRS to carry out its mission of serving America’s taxpayers. [1.1.6.1] \n",
      "\n",
      "latency: 1.94 (s)\n",
      "prompt_tokens: 1196\n",
      "output_tokens: 90\n",
      "\n",
      "Citations:\n",
      "\n",
      "[1] Section 1.1.6.1: Chief Counsel for the Internal Revenue Service\n",
      "[2] Section 1.1.6.3: Deputy Chief Counsel (Operations)\n",
      "[3] Section 1.1.6.4: Executive Counsel\n"
     ]
    }
   ],
   "source": [
    "user_query = \"What are the responsibilities of the Chief Counsel for the IRS?\"\n",
    "test_query_response(user_query, model, collection)"
   ]
  },
  {
   "cell_type": "markdown",
   "id": "c79613cc-b68e-4fdd-b9e8-38aece4385eb",
   "metadata": {},
   "source": [
    "### Example 3"
   ]
  },
  {
   "cell_type": "code",
   "execution_count": 90,
   "id": "f5cc2e00-7e77-433e-b6e3-0064de52ef45",
   "metadata": {
    "execution": {
     "iopub.execute_input": "2025-06-20T22:24:25.708791Z",
     "iopub.status.busy": "2025-06-20T22:24:25.708131Z",
     "iopub.status.idle": "2025-06-20T22:24:27.511532Z",
     "shell.execute_reply": "2025-06-20T22:24:27.510869Z",
     "shell.execute_reply.started": "2025-06-20T22:24:25.708763Z"
    }
   },
   "outputs": [
    {
     "name": "stdout",
     "output_type": "stream",
     "text": [
      "\n",
      "Answer:\n",
      "\n",
      "The Associate Chief Counsel (Corporate), The Associate Chief Counsel (Employee Benefits, Exempt Organizations, and Employment Taxes), The Associate Chief Counsel (Financial Institutions & Products), The Associate Chief Counsel (Income Tax & Accounting), The Associate Chief Counsel (International), and The Associate Chief Counsel (Passthroughs & Special Industries) [1.1.6.2] \n",
      "\n",
      "latency: 1.78 (s)\n",
      "prompt_tokens: 1005\n",
      "output_tokens: 94\n",
      "\n",
      "Citations:\n",
      "\n",
      "[1] Section 1.1.6.3: Deputy Chief Counsel (Operations)\n",
      "[2] Section 1.1.6.2: Deputy Chief Counsel (Technical)\n",
      "[3] Section 1.1.6.19: Division Counsel (Tax Exempt and Government Entities)\n"
     ]
    }
   ],
   "source": [
    "user_query = \"Which divisions report to the Deputy Chief Counsel (Technical)?\"\n",
    "test_query_response(user_query, model, collection)"
   ]
  },
  {
   "cell_type": "markdown",
   "id": "d2d7fdf3-3072-43c4-ad4d-c4c88539f079",
   "metadata": {},
   "source": [
    "### Example 4"
   ]
  },
  {
   "cell_type": "code",
   "execution_count": 91,
   "id": "dfcb0733-e82d-4e07-83a4-27790d88fdcd",
   "metadata": {
    "execution": {
     "iopub.execute_input": "2025-06-20T22:24:29.711074Z",
     "iopub.status.busy": "2025-06-20T22:24:29.710700Z",
     "iopub.status.idle": "2025-06-20T22:24:30.962538Z",
     "shell.execute_reply": "2025-06-20T22:24:30.961873Z",
     "shell.execute_reply.started": "2025-06-20T22:24:29.711050Z"
    }
   },
   "outputs": [
    {
     "name": "stdout",
     "output_type": "stream",
     "text": [
      "\n",
      "Answer:\n",
      "\n",
      "The Office of Chief Counsel provides legal guidance to the IRS by preparing legislative proposals, regulations, revenue rulings and procedures, actions on decisions, and other items of public guidance and legal advice. [1.1.6.1] \n",
      "\n",
      "latency: 1.23 (s)\n",
      "prompt_tokens: 1255\n",
      "output_tokens: 57\n",
      "\n",
      "Citations:\n",
      "\n",
      "[1] Section 1.1.6.1: Chief Counsel for the Internal Revenue Service\n",
      "[2] Section 1.1.6.4: Executive Counsel\n",
      "[3] Section 1.1.6.16: Division Counsel/Associate Chief Counsel (National Taxpayer Advocate Program)\n"
     ]
    }
   ],
   "source": [
    "user_query = \"What legal guidance does the Office of Chief Counsel provide for the IRS?\"\n",
    "test_query_response(user_query, model, collection)"
   ]
  },
  {
   "cell_type": "markdown",
   "id": "36c3b0af-b347-45b7-8ab2-a2df44665da5",
   "metadata": {},
   "source": [
    "### Example 5"
   ]
  },
  {
   "cell_type": "code",
   "execution_count": 92,
   "id": "240aa76f-212d-4147-b02e-c9737dc70f5f",
   "metadata": {
    "execution": {
     "iopub.execute_input": "2025-06-20T22:24:32.767841Z",
     "iopub.status.busy": "2025-06-20T22:24:32.767493Z",
     "iopub.status.idle": "2025-06-20T22:24:34.471955Z",
     "shell.execute_reply": "2025-06-20T22:24:34.471328Z",
     "shell.execute_reply.started": "2025-06-20T22:24:32.767819Z"
    }
   },
   "outputs": [
    {
     "name": "stdout",
     "output_type": "stream",
     "text": [
      "\n",
      "Answer:\n",
      "\n",
      "The Area Counsels provide legal services to the LB&I Division of the Internal Revenue Service Compliance Practice Areas and are located within each of five geographic offices of the Division Counsel (LB&I): Manhattan, Philadelphia, Downers Grove/Chicago, Houston/Dallas, and Oakland/San Francisco. [1.1.6.15.1] \n",
      "\n",
      "latency: 1.68 (s)\n",
      "prompt_tokens: 799\n",
      "output_tokens: 77\n",
      "\n",
      "Citations:\n",
      "\n",
      "[1] Section 1.1.6.14.1: Area Counsel (CT)\n",
      "[2] Section 1.1.6.15.1: Area Counsel (LB&I)\n",
      "[3] Section 1.1.6.17.1: Area Counsel (SB/SE)\n"
     ]
    }
   ],
   "source": [
    "user_query = \"which cities the Area Counsels provide legal services for?\"\n",
    "test_query_response(user_query, model, collection)"
   ]
  }
 ],
 "metadata": {
  "kernelspec": {
   "display_name": "Python 3 (ipykernel)",
   "language": "python",
   "name": "python3"
  },
  "language_info": {
   "codemirror_mode": {
    "name": "ipython",
    "version": 3
   },
   "file_extension": ".py",
   "mimetype": "text/x-python",
   "name": "python",
   "nbconvert_exporter": "python",
   "pygments_lexer": "ipython3",
   "version": "3.12.9"
  }
 },
 "nbformat": 4,
 "nbformat_minor": 5
}
